{
  "cells": [
    {
      "cell_type": "markdown",
      "metadata": {
        "colab_type": "text",
        "id": "view-in-github"
      },
      "source": [
        "<a href=\"https://colab.research.google.com/github/MOPineyro/tp1_18co2024_busqueda_torre_de_hanoi/blob/main/TP1_18Co2024_Busqueda_Torre_de_Hanoi.ipynb\" target=\"_parent\"><img src=\"https://colab.research.google.com/assets/colab-badge.svg\" alt=\"Open In Colab\"/></a>"
      ]
    },
    {
      "cell_type": "markdown",
      "metadata": {
        "id": "GPqHw0jRLuqk"
      },
      "source": [
        "## Integrantes del Grupo\n",
        "\n",
        "* Ezequiel Maudet\n",
        "* Natalia Diaz\n",
        "* Manuel Pineyro\n",
        "* Cristian Salinas\n",
        "\n",
        "\n",
        "En clase presentamos el problema de la torre de Hanoi. Además, vimos diferentes algoritmos de búsqueda que nos permitieron resolver este problema. Para este trabajo práctico, deberán implementar un método de búsqueda para resolver con 5 discos, del estado inicial y objetivo.\n",
        "\n",
        "\n",
        "Tareas y preguntas a resolver:\n",
        "\n",
        "1. ¿Cuáles son los PEAS de este problema? (Performance, Environment, Actuators, Sensors).\n",
        "\n",
        "2. ¿Cuáles son las propiedades del entorno de trabajo?\n",
        "\n",
        "3. En el contexto de este problema, establezca cuáles son los: estado, espacio de estados, árbol de búsqueda, nodo de búsqueda, objetivo, acción y frontera.\n",
        "4. Implemente algún método de búsqueda. Puedes elegir cualquiera menos búsqueda en anchura primero (el desarrollado en clase). Sos libre de elegir cualquiera de los vistos en clases, o inclusive buscar nuevos.\n",
        "5. A nivel implementación, ¿qué tiempo y memoria ocupa el algoritmo? (Se recomienda correr 10 veces y calcular promedio y desvío estándar de las métricas).\n",
        "6. Si la solución óptima es 2k -1 movimientos con k igual al número de discos. Qué tan lejos está la solución del algoritmo implementado de esta solución óptima (se recomienda correr al menos 10 veces y usar el promedio de trayecto usado).\n",
        "\n",
        "***El entregable es:***\n",
        "* Un archivo de txt/PDF/Word con las respuestas\n",
        "https://docs.google.com/document/d/1AXsLMskZXxzqyHd3vTW7I5g6kdWO2sSuVSk63FiKFOM/edit?usp=sharing\n",
        "\n",
        "* Los archivos con el código implementado, tambien pueden enviar una Notebook con el contenido y la solución.\n",
        "\n",
        "\n",
        " Si además agregan los json para usar en el simulador, es mejor. Pueden subir el contenido o proporcionar un enlace a un repositorio público (GitHub o GitLab) con el contenido. No olvidar especificar en el entregable los autores del TP.\n",
        "\n",
        "Para resolver este TP son libres de usar los recursos que crean necesarios. Pueden resolverlo en cualquier lenguaje de programación y de la forma que consideren apropiada.\n",
        "\n",
        "Pueden ahorrar tiempo usando el código ya implementado en Python que se encuentra en el repositorio hanoi_tower. Si usan este código, solo deben implementar el algoritmo de búsqueda, pero es importante que lean el código y entiendan que es cada parte"
      ]
    },
    {
      "cell_type": "markdown",
      "metadata": {
        "id": "rpLreD5XOjl5"
      },
      "source": [
        "# Backend de Hanoi"
      ]
    },
    {
      "cell_type": "markdown",
      "metadata": {
        "id": "mha5Ow9lIzFA"
      },
      "source": [
        "## Dependencia aima.py"
      ]
    },
    {
      "cell_type": "code",
      "execution_count": 132,
      "metadata": {
        "id": "G62EmzXsIcAS"
      },
      "outputs": [],
      "source": [
        "\"\"\"\n",
        "Código de Python del libro Artificial Intelligence: A Modern Approach. Implementa clases y funciones primitivas que\n",
        "permite usar en nuestros programas.\n",
        "\n",
        "https://github.com/aimacode\n",
        "https://github.com/aimacode/aima-python\n",
        "\n",
        "The MIT License (MIT)\n",
        "\n",
        "Copyright (c) 2016 aima-python contributors\n",
        "\n",
        "Permission is hereby granted, free of charge, to any person obtaining a copy of this software and associated\n",
        "documentation files (the \"Software\"), to deal in the Software without restriction, including without limitation the\n",
        "rights to use, copy, modify, merge, publish, distribute, sublicense, and/or sell copies of the Software, and to permit\n",
        "persons to whom the Software is furnished to do so, subject to the following conditions:\n",
        "\n",
        "The above copyright notice and this permission notice shall be included in all copies or substantial portions of the\n",
        "Software.\n",
        "\n",
        "THE SOFTWARE IS PROVIDED \"AS IS\", WITHOUT WARRANTY OF ANY KIND, EXPRESS OR IMPLIED, INCLUDING BUT NOT LIMITED TO THE\n",
        "WARRANTIES OF MERCHANTABILITY, FITNESS FOR A PARTICULAR PURPOSE AND NONINFRINGEMENT. IN NO EVENT SHALL THE AUTHORS OR\n",
        "COPYRIGHT HOLDERS BE LIABLE FOR ANY CLAIM, DAMAGES OR OTHER LIABILITY, WHETHER IN AN ACTION OF CONTRACT, TORT OR\n",
        "OTHERWISE, ARISING FROM, OUT OF OR IN CONNECTION WITH THE SOFTWARE OR THE USE OR OTHER DEALINGS IN THE SOFTWARE.\n",
        "\"\"\"\n",
        "import heapq\n",
        "\n",
        "\n",
        "def is_in(elt, seq):\n",
        "    \"\"\"Similar to (elt in seq), but compares with 'is', not '=='.\"\"\"\n",
        "    return any(x is elt for x in seq)\n",
        "\n",
        "\n",
        "class Problem:\n",
        "    \"\"\"The abstract class for a formal problem. You should subclass\n",
        "    this and implement the methods actions and result, and possibly\n",
        "    __init__, goal_test, and path_cost. Then you will create instances\n",
        "    of your subclass and solve them with the various search functions.\"\"\"\n",
        "\n",
        "    def __init__(self, initial, goal=None):\n",
        "        \"\"\"The constructor specifies the initial state, and possibly a goal\n",
        "        state, if there is a unique goal. Your subclass's constructor can add\n",
        "        other arguments.\"\"\"\n",
        "        self.initial = initial\n",
        "        self.goal = goal\n",
        "\n",
        "    def actions(self, state):\n",
        "        \"\"\"Return the actions that can be executed in the given\n",
        "        state. The result would typically be a list, but if there are\n",
        "        many actions, consider yielding them one at a time in an\n",
        "        iterator, rather than building them all at once.\"\"\"\n",
        "        raise NotImplementedError\n",
        "\n",
        "    def result(self, state, action):\n",
        "        \"\"\"Return the state that results from executing the given\n",
        "        action in the given state. The action must be one of\n",
        "        self.actions(state).\"\"\"\n",
        "        raise NotImplementedError\n",
        "\n",
        "    def goal_test(self, state):\n",
        "        \"\"\"Return True if the state is a goal. The default method compares the\n",
        "        state to self.goal or checks for state in self.goal if it is a\n",
        "        list, as specified in the constructor. Override this method if\n",
        "        checking against a single self.goal is not enough.\"\"\"\n",
        "        if isinstance(self.goal, list):\n",
        "            return is_in(state, self.goal)\n",
        "        else:\n",
        "            return state == self.goal\n",
        "\n",
        "    def path_cost(self, c, state1, action, state2):\n",
        "        \"\"\"Return the cost of a solution path that arrives at state2 from\n",
        "        state1 via action, assuming cost c to get up to state1. If the problem\n",
        "        is such that the path doesn't matter, this function will only look at\n",
        "        state2. If the path does matter, it will consider c and maybe state1\n",
        "        and action. The default method costs 1 for every step in the path.\"\"\"\n",
        "        return c + 1\n",
        "\n",
        "    def value(self, state):\n",
        "        \"\"\"For optimization problems, each state has a value. Hill Climbing\n",
        "        and related algorithms try to maximize this value.\"\"\"\n",
        "        raise NotImplementedError\n",
        "\n",
        "\n",
        "# ______________________________________________________________________________\n",
        "\n",
        "\n",
        "class Node:\n",
        "    \"\"\"A node in a search tree. Contains a pointer to the parent (the node\n",
        "    that this is a successor of) and to the actual state for this node. Note\n",
        "    that if a state is arrived at by two paths, then there are two nodes with\n",
        "    the same state. Also includes the action that got us to this state, and\n",
        "    the total path_cost (also known as g) to reach the node. Other functions\n",
        "    may add an f and h value; see best_first_graph_search and astar_search for\n",
        "    an explanation of how the f and h values are handled. You will not need to\n",
        "    subclass this class.\"\"\"\n",
        "\n",
        "    def __init__(self, state, parent=None, action=None, path_cost=0):\n",
        "        \"\"\"Create a search tree Node, derived from a parent by an action.\"\"\"\n",
        "        self.state = state\n",
        "        self.parent = parent\n",
        "        self.action = action\n",
        "        self.path_cost = path_cost\n",
        "        self.depth = 0\n",
        "        if parent:\n",
        "            self.depth = parent.depth + 1\n",
        "\n",
        "    def __repr__(self):\n",
        "        return \"<Node {}>\".format(self.state)\n",
        "\n",
        "    def __lt__(self, node):\n",
        "        return self.state < node.state\n",
        "\n",
        "    def expand(self, problem):\n",
        "        \"\"\"List the nodes reachable in one step from this node.\"\"\"\n",
        "        return [self.child_node(problem, action)\n",
        "                for action in problem.actions(self.state)]\n",
        "\n",
        "    def child_node(self, problem, action):\n",
        "        \"\"\"[Figure 3.10]\"\"\"\n",
        "        next_state = problem.result(self.state, action)\n",
        "        next_node = Node(next_state, self, action, problem.path_cost(self.path_cost, self.state, action, next_state))\n",
        "        return next_node\n",
        "\n",
        "    def solution(self):\n",
        "        \"\"\"Return the sequence of actions to go from the root to this node.\"\"\"\n",
        "        return [node.action for node in self.path()[1:]]\n",
        "\n",
        "    def path(self):\n",
        "        \"\"\"Return a list of nodes forming the path from the root to this node.\"\"\"\n",
        "        node, path_back = self, []\n",
        "        while node:\n",
        "            path_back.append(node)\n",
        "            node = node.parent\n",
        "        return list(reversed(path_back))\n",
        "\n",
        "    # We want for a queue of nodes in breadth_first_graph_search or\n",
        "    # astar_search to have no duplicated states, so we treat nodes\n",
        "    # with the same state as equal. [Problem: this may not be what you\n",
        "    # want in other contexts.]\n",
        "\n",
        "    def __eq__(self, other):\n",
        "        return isinstance(other, Node) and self.state == other.state\n",
        "\n",
        "    def __hash__(self):\n",
        "        # We use the hash value of the state\n",
        "        # stored in the node instead of the node\n",
        "        # object itself to quickly search a node\n",
        "        # with the same state in a Hash Table\n",
        "        return hash(self.state)\n",
        "\n",
        "\n",
        "# ______________________________________________________________________________\n",
        "\n",
        "class PriorityQueue:\n",
        "    \"\"\"A Queue in which the minimum (or maximum) element (as determined by f and\n",
        "    order) is returned first.\n",
        "    If order is 'min', the item with minimum f(x) is\n",
        "    returned first; if order is 'max', then it is the item with maximum f(x).\n",
        "    Also supports dict-like lookup.\"\"\"\n",
        "\n",
        "    def __init__(self, order='min', f=lambda x: x):\n",
        "        self.heap = []\n",
        "        if order == 'min':\n",
        "            self.f = f\n",
        "        elif order == 'max':  # now item with max f(x)\n",
        "            self.f = lambda x: -f(x)  # will be popped first\n",
        "        else:\n",
        "            raise ValueError(\"Order must be either 'min' or 'max'.\")\n",
        "\n",
        "    def append(self, item):\n",
        "        \"\"\"Insert item at its correct position.\"\"\"\n",
        "        heapq.heappush(self.heap, (self.f(item), item))\n",
        "\n",
        "    def extend(self, items):\n",
        "        \"\"\"Insert each item in items at its correct position.\"\"\"\n",
        "        for item in items:\n",
        "            self.append(item)\n",
        "\n",
        "    def pop(self):\n",
        "        \"\"\"Pop and return the item (with min or max f(x) value)\n",
        "        depending on the order.\"\"\"\n",
        "        if self.heap:\n",
        "            return heapq.heappop(self.heap)[1]\n",
        "        else:\n",
        "            raise Exception('Trying to pop from empty PriorityQueue.')\n",
        "\n",
        "    def __len__(self):\n",
        "        \"\"\"Return current capacity of PriorityQueue.\"\"\"\n",
        "        return len(self.heap)\n",
        "\n",
        "    def __contains__(self, key):\n",
        "        \"\"\"Return True if the key is in PriorityQueue.\"\"\"\n",
        "        return any([item == key for _, item in self.heap])\n",
        "\n",
        "    def __getitem__(self, key):\n",
        "        \"\"\"Returns the first value associated with key in PriorityQueue.\n",
        "        Raises KeyError if key is not present.\"\"\"\n",
        "        for value, item in self.heap:\n",
        "            if item == key:\n",
        "                return value\n",
        "        raise KeyError(str(key) + \" is not in the priority queue\")\n",
        "\n",
        "    def __delitem__(self, key):\n",
        "        \"\"\"Delete the first occurrence of key.\"\"\"\n",
        "        try:\n",
        "            del self.heap[[item == key for _, item in self.heap].index(True)]\n",
        "        except ValueError:\n",
        "            raise KeyError(str(key) + \" is not in the priority queue\")\n",
        "        heapq.heapify(self.heap)\n",
        "\n"
      ]
    },
    {
      "cell_type": "markdown",
      "metadata": {
        "id": "MsQeXCCsI7sl"
      },
      "source": [
        "## Dependencia hanoi_state.py"
      ]
    },
    {
      "cell_type": "code",
      "execution_count": 133,
      "metadata": {
        "id": "R4bfJy5uI7P5"
      },
      "outputs": [],
      "source": [
        "import copy\n",
        "from typing import Optional\n",
        "\n",
        "#import aima\n",
        "\n",
        "\n",
        "def is_sorted(test_list: list) -> bool:\n",
        "    \"\"\"\n",
        "    Comprueba si una lista está ordenada de forma descendente.\n",
        "\n",
        "    Args:\n",
        "        test_list (list): Lista a comprobar.\n",
        "\n",
        "    Returns:\n",
        "        bool: True si la lista está ordenada de forma descendente, False en caso contrario.\n",
        "    \"\"\"\n",
        "    if test_list == sorted(test_list, reverse=True):\n",
        "        return True\n",
        "    return False\n",
        "\n",
        "\n",
        "class StatesHanoi:\n",
        "    \"\"\"\n",
        "    Representa un estado posible de ubicación de discos de la Torre de Hanoi.\n",
        "    \"\"\"\n",
        "\n",
        "    def __init__(self, rod1: list, rod2: list, rod3: list, max_disks: int = 5, cost: float = 0.0):\n",
        "        \"\"\"\n",
        "        Inicializa un estado posible de ubicación de discos de la Torre de Hanoi.\n",
        "\n",
        "        Args:\n",
        "            rod1 (list): Discos en la primera varilla.\n",
        "            rod2 (list): Discos en la segunda varilla.\n",
        "            rod3 (list): Discos en la tercera varilla.\n",
        "            max_disks (int): Máximo número de discos permitidos.\n",
        "            cost (float): Costo asociado al estado.\n",
        "        \"\"\"\n",
        "        # Comprobamos si es un estado ilegal\n",
        "        if (set.intersection(set(rod1), set(rod2)) or\n",
        "                set.intersection(set(rod2), set(rod3)) or\n",
        "                set.intersection(set(rod1), set(rod3))):\n",
        "            raise ValueError('El mismo disco está en varillas diferentes')\n",
        "\n",
        "        all_values = set.union(set(rod1), set(rod2), set(rod3))\n",
        "        if not all(0 < i < (max_disks + 1) for i in all_values):\n",
        "            raise ValueError('Valor de disco incorrecto')\n",
        "\n",
        "        if not all(i in all_values for i in range(1, max_disks + 1)):\n",
        "            raise ValueError('No todos los discos están insertados')\n",
        "\n",
        "        for rod in [rod1, rod2, rod3]:\n",
        "            if not is_sorted(rod):\n",
        "                raise ValueError('No es un estado de Hanoi válido')\n",
        "\n",
        "        self.rods = [rod1, rod2, rod3]\n",
        "        self.number_of_disks = sum([len(rod) for rod in self.rods])\n",
        "        self.number_of_pegs = 3\n",
        "        self.accumulated_cost = cost\n",
        "\n",
        "        self.string_representation = \"\"\n",
        "        self.generate_representation()\n",
        "\n",
        "    def generate_representation(self):\n",
        "        \"\"\"\n",
        "        Genera una representación en forma de string del estado de Hanoi.\n",
        "        \"\"\"\n",
        "        strings = 'HanoiState: '\n",
        "        for rod in self.rods:\n",
        "            strings += ' '.join(str(disk) for disk in rod)\n",
        "            strings += \" | \"\n",
        "        self.string_representation = strings[:-3]\n",
        "\n",
        "    def __eq__(self, other):\n",
        "        \"\"\"\n",
        "        Compara dos estados de Hanoi para verificar si son iguales.\n",
        "\n",
        "        Dos estados de Hanoi son iguales si tienen la misma cantidad de discos y la misma ubicación.\n",
        "\n",
        "        Args:\n",
        "            other: Otro estado de Hanoi a comparar.\n",
        "\n",
        "        Returns:\n",
        "            bool: True si los estados son iguales, False en caso contrario.\n",
        "        \"\"\"\n",
        "        if self.number_of_disks == other.number_of_disks:\n",
        "            if self.rods == other.rods:\n",
        "                return True\n",
        "\n",
        "        return False\n",
        "\n",
        "    def __lt__(self, other):\n",
        "        \"\"\"\n",
        "        Compara dos estados de Hanoi para verificar si uno es mayor que el otro.\n",
        "\n",
        "        Esto se determina con el costo acumulado, quien tiene un costo mayor es mas grande\n",
        "\n",
        "        Args:\n",
        "            other: Otro estado de Hanoi a comparar.\n",
        "\n",
        "        Returns:\n",
        "            bool: True si los estados son iguales, False en caso contrario.\n",
        "        \"\"\"\n",
        "        return self.accumulated_cost < other.accumulated_cost\n",
        "\n",
        "    def __repr__(self):\n",
        "        \"\"\"\n",
        "        Representación formal de un objeto StatesHanoi.\n",
        "\n",
        "        Returns:\n",
        "            str: Cadena que representa el estado de Hanoi.\n",
        "        \"\"\"\n",
        "        self.generate_representation()\n",
        "        return self.string_representation\n",
        "\n",
        "    def __str__(self):\n",
        "        \"\"\"\n",
        "        Representación en string de un objeto StatesHanoi.\n",
        "\n",
        "        Returns:\n",
        "            str: Cadena que representa el estado de Hanoi.\n",
        "        \"\"\"\n",
        "        self.generate_representation()\n",
        "        return self.string_representation\n",
        "\n",
        "    def __hash__(self):\n",
        "        \"\"\"\n",
        "        Genera un hash para el objeto StatesHanoi.\n",
        "\n",
        "        Returns:\n",
        "            int: Hash generado para el estado de Hanoi.\n",
        "        \"\"\"\n",
        "        self.generate_representation()\n",
        "        return hash(self.string_representation)\n",
        "\n",
        "    def get_last_disk_rod(self, number_rod: int, peek: bool = False) -> Optional[int]:\n",
        "        \"\"\"\n",
        "        Obtiene el último disco de una varilla específica.\n",
        "\n",
        "        Args:\n",
        "            number_rod (int): Índice de la varilla.\n",
        "            peek (bool): Indica si se desea solo obtener el último disco sin eliminarlo de la varilla.\n",
        "\n",
        "        Returns:\n",
        "            Optional[int]: El último disco de la varilla si existe, None en caso contrario.\n",
        "        \"\"\"\n",
        "        rod = self.rods[number_rod]\n",
        "        if len(rod) != 0:\n",
        "            if peek:\n",
        "                return rod[-1]\n",
        "            return rod.pop()\n",
        "        return None\n",
        "\n",
        "    def check_valid_disk_in_rod(self, number_rod: int, disk: int) -> bool:\n",
        "        \"\"\"\n",
        "        Comprueba si es válido colocar un disco en una varilla específica.\n",
        "\n",
        "        Args:\n",
        "            number_rod (int): Índice de la varilla.\n",
        "            disk (int): Número del disco a colocar.\n",
        "\n",
        "        Returns:\n",
        "            bool: True si es válido colocar el disco en la varilla, False en caso contrario.\n",
        "        \"\"\"\n",
        "        last_disk_in_rod = self.get_last_disk_rod(number_rod, peek=True)\n",
        "        if last_disk_in_rod:\n",
        "            if last_disk_in_rod > disk:\n",
        "                return True\n",
        "        else:\n",
        "            return True\n",
        "        return False\n",
        "\n",
        "    def put_disk_in_rod(self, number_rod: int, disk: int):\n",
        "        \"\"\"\n",
        "        Coloca un disco en una varilla específica.\n",
        "\n",
        "        Args:\n",
        "            number_rod (int): Índice de la varilla.\n",
        "            disk (int): Número del disco a colocar.\n",
        "        \"\"\"\n",
        "        if self.check_valid_disk_in_rod(number_rod, disk):\n",
        "            self.rods[number_rod].append(disk)\n",
        "\n",
        "    def accumulate_cost(self, cost):\n",
        "        \"\"\"\n",
        "        Acumula el costo asociado al estado.\n",
        "\n",
        "        Args:\n",
        "            cost: Costo a acumular.\n",
        "        \"\"\"\n",
        "        self.accumulated_cost += cost\n",
        "\n",
        "    def get_accumulated_cost(self):\n",
        "        \"\"\"\n",
        "        Obtiene el costo acumulado del estado.\n",
        "\n",
        "        Returns:\n",
        "            float: Costo acumulado del estado.\n",
        "        \"\"\"\n",
        "        return self.accumulated_cost\n",
        "\n",
        "    def get_state(self) -> list:\n",
        "        \"\"\"\n",
        "        Obtiene una representación del estado de Hanoi.\n",
        "\n",
        "        Returns:\n",
        "            list: Lista que representa el estado de Hanoi.\n",
        "        \"\"\"\n",
        "        return self.rods\n",
        "\n",
        "    def get_state_dict(self) -> dict:\n",
        "        \"\"\"\n",
        "        Obtiene una representación del estado de Hanoi como un diccionario.\n",
        "\n",
        "        Returns:\n",
        "            dict: Diccionario que representa el estado de Hanoi.\n",
        "        \"\"\"\n",
        "        return_dict = {}\n",
        "        for index, rod in enumerate(self.rods):\n",
        "            return_dict[f'peg_{index+1}'] = rod\n",
        "        return return_dict\n",
        "\n",
        "\n",
        "class ActionHanoi:\n",
        "    \"\"\"\n",
        "    Representa una acción en el problema de la Torre de Hanoi.\n",
        "    \"\"\"\n",
        "\n",
        "    def __init__(self, disk: int, rod_input: int, rod_out: int):\n",
        "        \"\"\"\n",
        "        Inicializa una acción para mover un disco de la Torre de Hanoi.\n",
        "\n",
        "        Args:\n",
        "            disk (int): Número del disco.\n",
        "            rod_input (int): Índice de la varilla de entrada.\n",
        "            rod_out (int): Índice de la varilla de salida.\n",
        "        \"\"\"\n",
        "        self.disk = disk\n",
        "        self.rod_input = rod_input\n",
        "\n",
        "        if rod_input != rod_out:\n",
        "            self.action = f\"Move disk {disk} from {rod_input + 1} to {rod_out + 1}\"\n",
        "            self.action_dict = {\n",
        "                \"type\": \"movement\",\n",
        "                \"disk\": disk,\n",
        "                \"peg_start\": rod_input + 1,\n",
        "                \"peg_end\": rod_out + 1\n",
        "            }\n",
        "            self.cost = 1.0\n",
        "            self.rod_out = rod_out\n",
        "        else:\n",
        "            self.action = f\"Maintain disk {disk} in {rod_input + 1}\"\n",
        "            self.action_dict = {\n",
        "                \"type\": \"maintain\",\n",
        "                \"disk\": disk,\n",
        "                \"peg\": rod_input + 1\n",
        "            }\n",
        "            self.cost = 0.0\n",
        "            self.rod_out = rod_input\n",
        "\n",
        "    def __repr__(self):\n",
        "        \"\"\"\n",
        "        Representación formal de una acción.\n",
        "\n",
        "        Returns:\n",
        "            str: Cadena que representa la acción.\n",
        "        \"\"\"\n",
        "        return self.action\n",
        "\n",
        "    def __str__(self):\n",
        "        \"\"\"\n",
        "        Representación en cadena de una acción.\n",
        "\n",
        "        Returns:\n",
        "            str: String que representa la acción.\n",
        "        \"\"\"\n",
        "        return self.action\n",
        "\n",
        "    def execute(self, state_hanoi: StatesHanoi):\n",
        "        \"\"\"\n",
        "        Ejecuta la acción en un estado de Hanoi dado.\n",
        "\n",
        "        Args:\n",
        "            state_hanoi (StatesHanoi): Estado de Hanoi en el que se ejecutará la acción.\n",
        "\n",
        "        Returns:\n",
        "            StatesHanoi: Nuevo estado de Hanoi después de ejecutar la acción.\n",
        "        \"\"\"\n",
        "        if \"move\" in self.action.lower():\n",
        "            state_out = copy.deepcopy(state_hanoi)\n",
        "\n",
        "            disk = state_out.get_last_disk_rod(self.rod_input)\n",
        "            state_out.put_disk_in_rod(self.rod_out, disk)\n",
        "            state_out.accumulate_cost(self.cost)\n",
        "            return state_out\n",
        "        return state_hanoi\n",
        "\n",
        "\n",
        "class ProblemHanoi(Problem):\n",
        "    \"\"\"\n",
        "    Clase que define el problema de la Torre de Hanoi.\n",
        "\n",
        "    Attributes:\n",
        "        initial (hanoi_states.StatesHanoi): El estado inicial del problema.\n",
        "        goal (hanoi_states.StatesHanoi): El estado objetivo del problema.\n",
        "    \"\"\"\n",
        "\n",
        "    def __init__(self, initial: StatesHanoi, goal: StatesHanoi):\n",
        "        \"\"\"\n",
        "        Inicializa el problema de la Torre de Hanoi.\n",
        "\n",
        "        Args:\n",
        "            initial (StatesHanoi): El estado inicial del problema.\n",
        "            goal (StatesHanoi): El estado objetivo del problema.\n",
        "        \"\"\"\n",
        "        super().__init__(initial=initial, goal=goal)\n",
        "\n",
        "    def actions(self, state: StatesHanoi):\n",
        "        \"\"\"\n",
        "        Devuelve todas las acciones posibles que se pueden ejecutar desde un estado dado.\n",
        "\n",
        "        Args:\n",
        "            state (StatesHanoi): Estado actual de la Torre de Hanoi.\n",
        "\n",
        "        Returns:\n",
        "            list: Lista con todas las acciones posibles.\n",
        "        \"\"\"\n",
        "        actions_list = []\n",
        "        for i in range(3):\n",
        "            for j in range(3):\n",
        "                disk = state.get_last_disk_rod(i, peek=True)\n",
        "                if disk:\n",
        "                    if state.check_valid_disk_in_rod(j, disk):\n",
        "                        actions_list.append(ActionHanoi(disk, i, j))\n",
        "                else:\n",
        "                    break\n",
        "\n",
        "        return actions_list\n",
        "\n",
        "    def result(self, state: StatesHanoi, action: ActionHanoi):\n",
        "        \"\"\"\n",
        "        Calcula el nuevo estado después de aplicar una acción.\n",
        "\n",
        "        Args:\n",
        "            state (hanoi_states.StatesHanoi): Estado actual de la Torre de Hanoi.\n",
        "            action (hanoi_states.ActionHanoi): Acción a aplicar.\n",
        "\n",
        "        Returns:\n",
        "            hanoi_states.StatesHanoi: Nuevo estado después de aplicar la acción.\n",
        "        \"\"\"\n",
        "        return action.execute(state)\n",
        "\n",
        "    def path_cost(self, c, state1, action, state2):\n",
        "        \"\"\"\n",
        "        Calcula el costo del camino.\n",
        "\n",
        "        Args:\n",
        "            c: Costo acumulado hasta el estado actual (No utilizado, pero necesario por la herencia)\n",
        "            state1 (hanoi_states.StatesHanoi): Estado inicial.\n",
        "            action (hanoi_states.ActionHanoi): Acción realizada.\n",
        "            state2 (hanoi_states.StatesHanoi): Estado resultante después de la acción. (No utilizado, pero necesario\n",
        "            por la herencia)\n",
        "\n",
        "        Returns:\n",
        "            float: Costo total del camino.\n",
        "        \"\"\"\n",
        "        return state1.accumulated_cost + action.cost\n"
      ]
    },
    {
      "cell_type": "markdown",
      "metadata": {
        "id": "427D0iLqSJv8"
      },
      "source": [
        "## Dependencia NodeHanoi"
      ]
    },
    {
      "cell_type": "code",
      "execution_count": 134,
      "metadata": {
        "id": "gtad00YoSH09"
      },
      "outputs": [],
      "source": [
        "import json\n",
        "\n",
        "\n",
        "\n",
        "class NodeHanoi(Node):\n",
        "    \"\"\"\n",
        "    Clase que define un nodo en el arbol de búsqueda para la Torre de Hanoi.\n",
        "    \"\"\"\n",
        "\n",
        "    def __init__(self, state: StatesHanoi, parent=None, action=None):\n",
        "        \"\"\"\n",
        "        Inicializa un nodo en el espacio de búsqueda.\n",
        "\n",
        "        Args:\n",
        "            state (hanoi_states.StatesHanoi): Estado del nodo.\n",
        "            parent (hanoi_states.StatesHanoi | None): Nodo padre.\n",
        "            action (hanoi_states.ActionHanoi | None): Acción realizada para llegar a este nodo.\n",
        "        \"\"\"\n",
        "        super().__init__(state, parent=parent, action=action)\n",
        "        self.path_cost = state.accumulated_cost\n",
        "\n",
        "    def child_node(self, problem: ProblemHanoi, action: ActionHanoi):\n",
        "        \"\"\"\n",
        "        Genera el nodo hijo a partir de una acción.\n",
        "\n",
        "        Args:\n",
        "            problem (hanoi_states.ProblemHanoi): Problema de la Torre de Hanoi.\n",
        "            action (hanoi_states.ActionHanoi): Acción a aplicar.\n",
        "\n",
        "        Returns:\n",
        "            NodeHanoi: Nodo hijo generado.\n",
        "        \"\"\"\n",
        "        next_state = problem.result(self.state, action)\n",
        "        next_node = NodeHanoi(next_state, parent=self, action=action)\n",
        "        return next_node\n",
        "\n",
        "    def generate_solution_for_simulator(self, initial_state_file=\"./initial_state.json\",\n",
        "                                        sequence_file=\"./sequence.json\"):\n",
        "        \"\"\"\n",
        "        Genera los archivos JSON para el simulador de la Torre de Hanoi.\n",
        "\n",
        "        Args:\n",
        "            initial_state_file (str): Ruta del archivo JSON para el estado inicial.\n",
        "            sequence_file (str): Ruta del archivo JSON para la secuencia de movimientos.\n",
        "        \"\"\"\n",
        "        list_solution = self.path()\n",
        "\n",
        "        with open(initial_state_file, \"w\") as file:\n",
        "            initial_state = list_solution[0].state.get_state_dict()\n",
        "            json.dump(initial_state, file)\n",
        "\n",
        "        with open(sequence_file, \"w\") as file:\n",
        "            sequence = [node.action.action_dict for node in list_solution[1:]]\n",
        "            json.dump(sequence, file, indent=2)\n"
      ]
    },
    {
      "cell_type": "markdown",
      "metadata": {},
      "source": [
        "## Setup"
      ]
    },
    {
      "cell_type": "markdown",
      "metadata": {
        "id": "llTUPPOKr_XF"
      },
      "source": [
        "# BUSQUEDA en Profundidad - LIFO\n",
        "\n"
      ]
    },
    {
      "cell_type": "code",
      "execution_count": 135,
      "metadata": {
        "colab": {
          "base_uri": "https://localhost:8080/"
        },
        "id": "6NVQ4V5j4Rf1",
        "outputId": "1436e83f-6702-4341-fae0-76de0a60f610"
      },
      "outputs": [
        {
          "name": "stdout",
          "output_type": "stream",
          "text": [
            "Encontramos la solución\n"
          ]
        }
      ],
      "source": [
        "# Inicializamos el problema\n",
        "initial_state = StatesHanoi([5, 4, 3, 2, 1], [], [], max_disks=5)\n",
        "goal_state = StatesHanoi([], [], [5, 4, 3, 2, 1], max_disks=5)\n",
        "problem = ProblemHanoi(initial=initial_state, goal=goal_state)\n",
        "\n",
        "frontier = [NodeHanoi(problem.initial)]  # Creamos una pila LIFO con el nodo inicial\n",
        "\n",
        "explored = set()  # Este set nos permite ver si ya exploramos un estado para evitar repetir indefinidamente\n",
        "\n",
        "# Mientras que la pila no este vacía\n",
        "while len(frontier) != 0:\n",
        "    node = frontier.pop()  # Extraemos el último nodo de la pila (LIFO)\n",
        "\n",
        "    # Agregamos el nodo al set para evitar duplicados\n",
        "    explored.add(node.state)\n",
        "\n",
        "    if problem.goal_test(node.state):  # Comprobamos si hemos alcanzado el estado objetivo\n",
        "        last_node = node\n",
        "        print(\"Encontramos la solución\")\n",
        "        break\n",
        "\n",
        "    # Agregamos a la pila todos los nodos sucesores del nodo actual\n",
        "    for next_node in node.expand(problem):\n",
        "        # Solo si no fue explorado\n",
        "        if next_node.state not in explored:\n",
        "            frontier.append(next_node)  # Usamos append para agregar los sucesores al final (LIFO)****************************\n"
      ]
    },
    {
      "cell_type": "code",
      "execution_count": 136,
      "metadata": {
        "colab": {
          "base_uri": "https://localhost:8080/"
        },
        "id": "jFUMM_974T09",
        "outputId": "e2fa3e09-f3d2-4522-e9e3-23258d2f37f8"
      },
      "outputs": [
        {
          "name": "stdout",
          "output_type": "stream",
          "text": [
            "Longitud del camino de la solución: 121.0\n"
          ]
        }
      ],
      "source": [
        "print(f'Longitud del camino de la solución: {last_node.state.accumulated_cost}')"
      ]
    },
    {
      "cell_type": "code",
      "execution_count": 137,
      "metadata": {
        "colab": {
          "base_uri": "https://localhost:8080/"
        },
        "id": "LjU0IN-qXq7U",
        "outputId": "6f1e3e95-4627-49e1-b66e-a9ef91debb6c"
      },
      "outputs": [
        {
          "data": {
            "text/plain": [
              "{'Long_Solucion': 121.0, 'Explorados': 122, 'Fronteras': 63}"
            ]
          },
          "execution_count": 137,
          "metadata": {},
          "output_type": "execute_result"
        }
      ],
      "source": [
        "solucion_prof = {'Long_Solucion': last_node.state.accumulated_cost,\n",
        "                 'Explorados':len(explored),\n",
        "                 'Fronteras': len(frontier)}\n",
        "solucion_prof"
      ]
    },
    {
      "cell_type": "code",
      "execution_count": 138,
      "metadata": {
        "colab": {
          "base_uri": "https://localhost:8080/"
        },
        "id": "h3gdgLxr8ENs",
        "outputId": "c4f26054-159d-43c7-c4e9-9094af8768e1"
      },
      "outputs": [
        {
          "name": "stdout",
          "output_type": "stream",
          "text": [
            "122 nodos se expandieron y 63 nodos quedaron en la frontera\n"
          ]
        }
      ],
      "source": [
        "print(len(explored), \"nodos se expandieron y\", len(frontier), \"nodos quedaron en la frontera\")"
      ]
    },
    {
      "cell_type": "code",
      "execution_count": 139,
      "metadata": {
        "colab": {
          "base_uri": "https://localhost:8080/"
        },
        "id": "tY9pCz7n5hFW",
        "outputId": "975275cc-c097-4f2e-d881-7d763d78da0f"
      },
      "outputs": [
        {
          "name": "stdout",
          "output_type": "stream",
          "text": [
            "HanoiState:  |  | 5 4 3 2 1\n",
            "HanoiState: 1 |  | 5 4 3 2\n",
            "HanoiState: 1 | 2 | 5 4 3\n",
            "HanoiState:  | 2 | 5 4 3 1\n",
            "HanoiState:  | 2 1 | 5 4 3\n",
            "HanoiState: 3 | 2 1 | 5 4\n",
            "HanoiState: 3 | 2 | 5 4 1\n",
            "HanoiState: 3 1 | 2 | 5 4\n",
            "HanoiState: 3 1 |  | 5 4 2\n",
            "HanoiState: 3 |  | 5 4 2 1\n",
            "HanoiState: 3 | 1 | 5 4 2\n",
            "HanoiState: 3 2 | 1 | 5 4\n",
            "HanoiState: 3 2 |  | 5 4 1\n",
            "HanoiState: 3 2 1 |  | 5 4\n",
            "HanoiState: 3 2 1 | 4 | 5\n",
            "HanoiState: 3 2 | 4 | 5 1\n",
            "HanoiState: 3 2 | 4 1 | 5\n",
            "HanoiState: 3 | 4 1 | 5 2\n",
            "HanoiState: 3 | 4 | 5 2 1\n",
            "HanoiState: 3 1 | 4 | 5 2\n",
            "HanoiState: 3 1 | 4 2 | 5\n",
            "HanoiState: 3 | 4 2 | 5 1\n",
            "HanoiState: 3 | 4 2 1 | 5\n",
            "HanoiState:  | 4 2 1 | 5 3\n",
            "HanoiState:  | 4 2 | 5 3 1\n",
            "HanoiState: 1 | 4 2 | 5 3\n",
            "HanoiState: 1 | 4 | 5 3 2\n",
            "HanoiState:  | 4 | 5 3 2 1\n",
            "HanoiState:  | 4 1 | 5 3 2\n",
            "HanoiState: 2 | 4 1 | 5 3\n",
            "HanoiState: 2 | 4 | 5 3 1\n",
            "HanoiState: 2 1 | 4 | 5 3\n",
            "HanoiState: 2 1 | 4 3 | 5\n",
            "HanoiState: 2 | 4 3 | 5 1\n",
            "HanoiState: 2 | 4 3 1 | 5\n",
            "HanoiState:  | 4 3 1 | 5 2\n",
            "HanoiState:  | 4 3 | 5 2 1\n",
            "HanoiState: 1 | 4 3 | 5 2\n",
            "HanoiState: 1 | 4 3 2 | 5\n",
            "HanoiState:  | 4 3 2 | 5 1\n",
            "HanoiState:  | 4 3 2 1 | 5\n",
            "HanoiState: 5 | 4 3 2 1 | \n",
            "HanoiState: 5 | 4 3 2 | 1\n",
            "HanoiState: 5 1 | 4 3 2 | \n",
            "HanoiState: 5 1 | 4 3 | 2\n",
            "HanoiState: 5 | 4 3 | 2 1\n",
            "HanoiState: 5 | 4 3 1 | 2\n",
            "HanoiState: 5 2 | 4 3 1 | \n",
            "HanoiState: 5 2 | 4 3 | 1\n",
            "HanoiState: 5 2 1 | 4 3 | \n",
            "HanoiState: 5 2 1 | 4 | 3\n",
            "HanoiState: 5 2 | 4 | 3 1\n",
            "HanoiState: 5 2 | 4 1 | 3\n",
            "HanoiState: 5 | 4 1 | 3 2\n",
            "HanoiState: 5 | 4 | 3 2 1\n",
            "HanoiState: 5 1 | 4 | 3 2\n",
            "HanoiState: 5 1 | 4 2 | 3\n",
            "HanoiState: 5 | 4 2 | 3 1\n",
            "HanoiState: 5 | 4 2 1 | 3\n",
            "HanoiState: 5 3 | 4 2 1 | \n",
            "HanoiState: 5 3 | 4 2 | 1\n",
            "HanoiState: 5 3 1 | 4 2 | \n",
            "HanoiState: 5 3 1 | 4 | 2\n",
            "HanoiState: 5 3 | 4 | 2 1\n",
            "HanoiState: 5 3 | 4 1 | 2\n",
            "HanoiState: 5 3 2 | 4 1 | \n",
            "HanoiState: 5 3 2 | 4 | 1\n",
            "HanoiState: 5 3 2 1 | 4 | \n",
            "HanoiState: 5 3 2 1 |  | 4\n",
            "HanoiState: 5 3 2 |  | 4 1\n",
            "HanoiState: 5 3 2 | 1 | 4\n",
            "HanoiState: 5 3 | 1 | 4 2\n",
            "HanoiState: 5 3 |  | 4 2 1\n",
            "HanoiState: 5 3 1 |  | 4 2\n",
            "HanoiState: 5 3 1 | 2 | 4\n",
            "HanoiState: 5 3 | 2 | 4 1\n",
            "HanoiState: 5 3 | 2 1 | 4\n",
            "HanoiState: 5 | 2 1 | 4 3\n",
            "HanoiState: 5 | 2 | 4 3 1\n",
            "HanoiState: 5 1 | 2 | 4 3\n",
            "HanoiState: 5 1 |  | 4 3 2\n",
            "HanoiState: 5 |  | 4 3 2 1\n",
            "HanoiState: 5 | 1 | 4 3 2\n",
            "HanoiState: 5 2 | 1 | 4 3\n",
            "HanoiState: 5 2 |  | 4 3 1\n",
            "HanoiState: 5 2 1 |  | 4 3\n",
            "HanoiState: 5 2 1 | 3 | 4\n",
            "HanoiState: 5 2 | 3 | 4 1\n",
            "HanoiState: 5 2 | 3 1 | 4\n",
            "HanoiState: 5 | 3 1 | 4 2\n",
            "HanoiState: 5 | 3 | 4 2 1\n",
            "HanoiState: 5 1 | 3 | 4 2\n",
            "HanoiState: 5 1 | 3 2 | 4\n",
            "HanoiState: 5 | 3 2 | 4 1\n",
            "HanoiState: 5 | 3 2 1 | 4\n",
            "HanoiState: 5 4 | 3 2 1 | \n",
            "HanoiState: 5 4 | 3 2 | 1\n",
            "HanoiState: 5 4 1 | 3 2 | \n",
            "HanoiState: 5 4 1 | 3 | 2\n",
            "HanoiState: 5 4 | 3 | 2 1\n",
            "HanoiState: 5 4 | 3 1 | 2\n",
            "HanoiState: 5 4 2 | 3 1 | \n",
            "HanoiState: 5 4 2 | 3 | 1\n",
            "HanoiState: 5 4 2 1 | 3 | \n",
            "HanoiState: 5 4 2 1 |  | 3\n",
            "HanoiState: 5 4 2 |  | 3 1\n",
            "HanoiState: 5 4 2 | 1 | 3\n",
            "HanoiState: 5 4 | 1 | 3 2\n",
            "HanoiState: 5 4 |  | 3 2 1\n",
            "HanoiState: 5 4 1 |  | 3 2\n",
            "HanoiState: 5 4 1 | 2 | 3\n",
            "HanoiState: 5 4 | 2 | 3 1\n",
            "HanoiState: 5 4 | 2 1 | 3\n",
            "HanoiState: 5 4 3 | 2 1 | \n",
            "HanoiState: 5 4 3 | 2 | 1\n",
            "HanoiState: 5 4 3 1 | 2 | \n",
            "HanoiState: 5 4 3 1 |  | 2\n",
            "HanoiState: 5 4 3 |  | 2 1\n",
            "HanoiState: 5 4 3 | 1 | 2\n",
            "HanoiState: 5 4 3 2 | 1 | \n",
            "HanoiState: 5 4 3 2 |  | 1\n"
          ]
        }
      ],
      "source": [
        "node = last_node\n",
        "while node.parent is not None:\n",
        "    print(node.state)\n",
        "    node = node.parent"
      ]
    },
    {
      "cell_type": "code",
      "execution_count": 140,
      "metadata": {
        "colab": {
          "base_uri": "https://localhost:8080/"
        },
        "id": "etRj59sX6TY3",
        "outputId": "7061822c-651e-4579-eb21-74790a88b049"
      },
      "outputs": [
        {
          "name": "stdout",
          "output_type": "stream",
          "text": [
            "37.8 ms ± 248 μs per loop (mean ± std. dev. of 7 runs, 10 loops each)\n"
          ]
        }
      ],
      "source": [
        "%%timeit\n",
        "# Inicializamos el problema\n",
        "initial_state = StatesHanoi([5, 4, 3, 2, 1], [], [], max_disks=5)\n",
        "goal_state = StatesHanoi([], [], [5, 4, 3, 2, 1], max_disks=5)\n",
        "problem = ProblemHanoi(initial=initial_state, goal=goal_state)\n",
        "\n",
        "frontier = [NodeHanoi(problem.initial)]  # Creamos una pila LIFO con el nodo inicial\n",
        "\n",
        "explored = set()  # Este set nos permite ver si ya exploramos un estado para evitar repetir indefinidamente\n",
        "\n",
        "# Mientras que la pila no este vacía\n",
        "while len(frontier) != 0:\n",
        "    node = frontier.pop()  # Extraemos el último nodo de la pila (LIFO)\n",
        "\n",
        "    # Agregamos el nodo al set para evitar duplicados\n",
        "    explored.add(node.state)\n",
        "\n",
        "    if problem.goal_test(node.state):  # Comprobamos si hemos alcanzado el estado objetivo\n",
        "        last_node = node\n",
        "        break\n",
        "\n",
        "    # Agregamos a la pila todos los nodos sucesores del nodo actual\n",
        "    for next_node in node.expand(problem):\n",
        "        # Solo si no fue explorado\n",
        "        if next_node.state not in explored:\n",
        "            frontier.append(next_node)  # Usamos append para agregar los sucesores al final (LIFO)"
      ]
    },
    {
      "cell_type": "code",
      "execution_count": 141,
      "metadata": {
        "colab": {
          "base_uri": "https://localhost:8080/"
        },
        "id": "UbnMnIosZyBw",
        "outputId": "ffbf0950-126b-49a3-b46b-eaacd2dc550e"
      },
      "outputs": [
        {
          "data": {
            "text/plain": [
              "{'Long_Solucion': 121.0,\n",
              " 'Explorados': 122,\n",
              " 'Fronteras': 63,\n",
              " 'tiempo': '16.9 ms ± 5.49 ms'}"
            ]
          },
          "execution_count": 141,
          "metadata": {},
          "output_type": "execute_result"
        }
      ],
      "source": [
        "solucion_prof['tiempo']= '16.9 ms ± 5.49 ms'\n",
        "solucion_prof"
      ]
    },
    {
      "cell_type": "code",
      "execution_count": 142,
      "metadata": {
        "colab": {
          "base_uri": "https://localhost:8080/"
        },
        "id": "JgZUyJSH7PRC",
        "outputId": "7bddbf11-3fb8-49a6-b1a8-a0afc6ed07a2"
      },
      "outputs": [
        {
          "name": "stdout",
          "output_type": "stream",
          "text": [
            "Maxima memoria ocupada: 0.22 [MB]\n"
          ]
        }
      ],
      "source": [
        "import tracemalloc\n",
        "\n",
        "# Para medir memoria consumida (usamos el pico de memoria)\n",
        "tracemalloc.start()\n",
        "\n",
        "# Inicializamos el problema\n",
        "initial_state = StatesHanoi([5, 4, 3, 2, 1], [], [], max_disks=5)\n",
        "goal_state = StatesHanoi([], [], [5, 4, 3, 2, 1], max_disks=5)\n",
        "problem = ProblemHanoi(initial=initial_state, goal=goal_state)\n",
        "\n",
        "frontier = [NodeHanoi(problem.initial)]  # Creamos una pila LIFO con el nodo inicial\n",
        "\n",
        "explored = set()  # Este set nos permite ver si ya exploramos un estado para evitar repetir indefinidamente\n",
        "\n",
        "# Mientras que la pila no este vacía\n",
        "while len(frontier) != 0:\n",
        "    node = frontier.pop()  # Extraemos el último nodo de la pila (LIFO)\n",
        "\n",
        "    # Agregamos el nodo al set para evitar duplicados\n",
        "    explored.add(node.state)\n",
        "\n",
        "    if problem.goal_test(node.state):  # Comprobamos si hemos alcanzado el estado objetivo\n",
        "        last_node = node\n",
        "        break\n",
        "\n",
        "    # Agregamos a la pila todos los nodos sucesores del nodo actual\n",
        "    for next_node in node.expand(problem):\n",
        "        # Solo si no fue explorado\n",
        "        if next_node.state not in explored:\n",
        "            frontier.append(next_node)  # Usamos append para agregar los sucesores al final (LIFO)\n",
        "\n",
        "_, memory_peak = tracemalloc.get_traced_memory()\n",
        "memory_peak /= 1024*1024\n",
        "tracemalloc.stop()\n",
        "\n",
        "print(f\"Maxima memoria ocupada: {round(memory_peak, 2)} [MB]\", )"
      ]
    },
    {
      "cell_type": "code",
      "execution_count": 143,
      "metadata": {
        "colab": {
          "base_uri": "https://localhost:8080/"
        },
        "id": "DuJrCP8va7Md",
        "outputId": "631fd2d2-b9b7-451f-cc9f-9a7d016bc969"
      },
      "outputs": [
        {
          "data": {
            "text/plain": [
              "{'Long_Solucion': 121.0,\n",
              " 'Explorados': 122,\n",
              " 'Fronteras': 63,\n",
              " 'tiempo': '16.9 ms ± 5.49 ms',\n",
              " 'memoria': 0.22181129455566406}"
            ]
          },
          "execution_count": 143,
          "metadata": {},
          "output_type": "execute_result"
        }
      ],
      "source": [
        "solucion_prof['memoria']= memory_peak\n",
        "solucion_prof"
      ]
    },
    {
      "cell_type": "code",
      "execution_count": 144,
      "metadata": {
        "colab": {
          "base_uri": "https://localhost:8080/",
          "height": 81
        },
        "id": "DOfMd8q7aqH4",
        "outputId": "3869fc22-9c31-4b9c-a9da-c19ee2cf7826"
      },
      "outputs": [
        {
          "data": {
            "text/html": [
              "<div>\n",
              "<style scoped>\n",
              "    .dataframe tbody tr th:only-of-type {\n",
              "        vertical-align: middle;\n",
              "    }\n",
              "\n",
              "    .dataframe tbody tr th {\n",
              "        vertical-align: top;\n",
              "    }\n",
              "\n",
              "    .dataframe thead th {\n",
              "        text-align: right;\n",
              "    }\n",
              "</style>\n",
              "<table border=\"1\" class=\"dataframe\">\n",
              "  <thead>\n",
              "    <tr style=\"text-align: right;\">\n",
              "      <th></th>\n",
              "      <th>Long_Solucion</th>\n",
              "      <th>Explorados</th>\n",
              "      <th>Fronteras</th>\n",
              "      <th>tiempo</th>\n",
              "      <th>memoria</th>\n",
              "    </tr>\n",
              "  </thead>\n",
              "  <tbody>\n",
              "    <tr>\n",
              "      <th>0</th>\n",
              "      <td>121.0</td>\n",
              "      <td>122</td>\n",
              "      <td>63</td>\n",
              "      <td>16.9 ms ± 5.49 ms</td>\n",
              "      <td>0.221811</td>\n",
              "    </tr>\n",
              "  </tbody>\n",
              "</table>\n",
              "</div>"
            ],
            "text/plain": [
              "   Long_Solucion  Explorados  Fronteras             tiempo   memoria\n",
              "0          121.0         122         63  16.9 ms ± 5.49 ms  0.221811"
            ]
          },
          "execution_count": 144,
          "metadata": {},
          "output_type": "execute_result"
        }
      ],
      "source": [
        "import pandas as pd\n",
        "\n",
        "pd.DataFrame(solucion_prof, index=[0])"
      ]
    },
    {
      "cell_type": "markdown",
      "metadata": {
        "id": "Msp-Zq44bRmq"
      },
      "source": [
        "# Busque en Anchura - FIFO"
      ]
    },
    {
      "cell_type": "code",
      "execution_count": 145,
      "metadata": {},
      "outputs": [
        {
          "name": "stdout",
          "output_type": "stream",
          "text": [
            "Encontramos la solución\n"
          ]
        }
      ],
      "source": [
        "# Inicializaos el problema\n",
        "initial_state = StatesHanoi([5, 4, 3, 2, 1], [], [], max_disks=5)\n",
        "goal_state = StatesHanoi([], [], [5, 4, 3, 2, 1], max_disks=5)\n",
        "problem = ProblemHanoi(initial=initial_state, goal=goal_state)\n",
        "\n",
        "frontier = [NodeHanoi(problem.initial)]  # Creamos una cola FIFO con el nodo inicial\n",
        "\n",
        "explored = set()  # Este set nos permite ver si ya exploramos un estado para evitar repetir indefinidamente\n",
        "\n",
        "# Mientras que la cola no este vacia\n",
        "while len(frontier) != 0:\n",
        "    node = frontier.pop()  # Extraemos el primer nodo de la cola\n",
        "\n",
        "    # Agregamos nodo al set. Esto evita guardar duplicados, porque set nunca tiene elementos repetidos\n",
        "    explored.add(node.state)\n",
        "\n",
        "    if problem.goal_test(node.state):  # Comprobamos si hemos alcanzado el estado objetivo\n",
        "        last_node = node\n",
        "        print(\"Encontramos la solución\")\n",
        "        break\n",
        "\n",
        "    # Agregamos a la cola todos los nodos sucesores del nodo actual\n",
        "    for next_node in node.expand(problem):\n",
        "        # Solo si no fue explorado\n",
        "        if next_node.state not in explored:\n",
        "            frontier.insert(0, next_node)"
      ]
    },
    {
      "cell_type": "code",
      "execution_count": 146,
      "metadata": {
        "colab": {
          "base_uri": "https://localhost:8080/"
        },
        "id": "l8c7W2MrbmMc",
        "outputId": "0653e688-99b6-4c77-ece9-702188c36fb3"
      },
      "outputs": [
        {
          "data": {
            "text/plain": [
              "{'Long_Solucion': 31.0, 'Explorados': 233, 'Fronteras': 285}"
            ]
          },
          "execution_count": 146,
          "metadata": {},
          "output_type": "execute_result"
        }
      ],
      "source": [
        "solucion_Anch = {'Long_Solucion': last_node.state.accumulated_cost,\n",
        "                 'Explorados':len(explored),\n",
        "                 'Fronteras': len(frontier)}\n",
        "solucion_Anch"
      ]
    },
    {
      "cell_type": "code",
      "execution_count": 147,
      "metadata": {
        "colab": {
          "base_uri": "https://localhost:8080/"
        },
        "id": "2MaspVNhbxM0",
        "outputId": "e3962d89-60d4-4d0a-8f8f-96d9342a73ce"
      },
      "outputs": [
        {
          "name": "stdout",
          "output_type": "stream",
          "text": [
            "430 ms ± 6.57 ms per loop (mean ± std. dev. of 7 runs, 1 loop each)\n"
          ]
        }
      ],
      "source": [
        "%%timeit\n",
        "\n",
        "\n",
        "# Inicializaos el problema\n",
        "initial_state = StatesHanoi([5, 4, 3, 2, 1], [], [], max_disks=5)\n",
        "goal_state = StatesHanoi([], [], [5, 4, 3, 2, 1], max_disks=5)\n",
        "problem = ProblemHanoi(initial=initial_state, goal=goal_state)\n",
        "\n",
        "frontier = [NodeHanoi(problem.initial)]  # Creamos una cola FIFO con el nodo inicial\n",
        "\n",
        "explored = set()  # Este set nos permite ver si ya exploramos un estado para evitar repetir indefinidamente\n",
        "\n",
        "# Mientras que la cola no este vacia\n",
        "while len(frontier) != 0:\n",
        "    node = frontier.pop()  # Extraemos el primer nodo de la cola\n",
        "\n",
        "    # Agregamos nodo al set. Esto evita guardar duplicados, porque set nunca tiene elementos repetidos\n",
        "    explored.add(node.state)\n",
        "\n",
        "    if problem.goal_test(node.state):  # Comprobamos si hemos alcanzado el estado objetivo\n",
        "        last_node = node\n",
        "        break\n",
        "\n",
        "    # Agregamos a la cola todos los nodos sucesores del nodo actual\n",
        "    for next_node in node.expand(problem):\n",
        "        # Solo si no fue explorado\n",
        "        if next_node.state not in explored:\n",
        "            frontier.insert(0, next_node)"
      ]
    },
    {
      "cell_type": "code",
      "execution_count": 148,
      "metadata": {
        "colab": {
          "base_uri": "https://localhost:8080/"
        },
        "id": "O_2tY8MwcD4A",
        "outputId": "4b958ad7-302c-42ec-a913-60825d54acdc"
      },
      "outputs": [
        {
          "data": {
            "text/plain": [
              "{'Long_Solucion': 31.0,\n",
              " 'Explorados': 233,\n",
              " 'Fronteras': 285,\n",
              " 'tiempo': '249 ms ± 27.2 ms'}"
            ]
          },
          "execution_count": 148,
          "metadata": {},
          "output_type": "execute_result"
        }
      ],
      "source": [
        "solucion_Anch['tiempo']= '249 ms ± 27.2 ms'\n",
        "solucion_Anch"
      ]
    },
    {
      "cell_type": "code",
      "execution_count": 149,
      "metadata": {
        "id": "Ny7pAkjgcMSc"
      },
      "outputs": [],
      "source": [
        "import tracemalloc\n",
        "\n",
        "# Para medir memoria consumida (usamos el pico de memoria)\n",
        "tracemalloc.start()\n",
        "\n",
        "# Inicializaos el problema\n",
        "initial_state = StatesHanoi([5, 4, 3, 2, 1], [], [], max_disks=5)\n",
        "goal_state = StatesHanoi([], [], [5, 4, 3, 2, 1], max_disks=5)\n",
        "problem = ProblemHanoi(initial=initial_state, goal=goal_state)\n",
        "\n",
        "frontier = [NodeHanoi(problem.initial)]  # Creamos una cola FIFO con el nodo inicial\n",
        "\n",
        "explored = set()  # Este set nos permite ver si ya exploramos un estado para evitar repetir indefinidamente\n",
        "\n",
        "# Mientras que la cola no este vacia\n",
        "while len(frontier) != 0:\n",
        "    node = frontier.pop()  # Extraemos el primer nodo de la cola\n",
        "\n",
        "    # Agregamos nodo al set. Esto evita guardar duplicados, porque set nunca tiene elementos repetidos\n",
        "    explored.add(node.state)\n",
        "\n",
        "    if problem.goal_test(node.state):  # Comprobamos si hemos alcanzado el estado objetivo\n",
        "        last_node = node\n",
        "        break\n",
        "\n",
        "    # Agregamos a la cola todos los nodos sucesores del nodo actual\n",
        "    for next_node in node.expand(problem):\n",
        "        # Solo si no fue explorado\n",
        "        if next_node.state not in explored:\n",
        "            frontier.insert(0, next_node)\n",
        "\n",
        "_, memory_peak = tracemalloc.get_traced_memory()\n",
        "memory_peak /= 1024*1024\n",
        "tracemalloc.stop()"
      ]
    },
    {
      "cell_type": "code",
      "execution_count": 150,
      "metadata": {
        "colab": {
          "base_uri": "https://localhost:8080/"
        },
        "id": "Icl8vGyPcUTw",
        "outputId": "8629824e-098d-495e-c3f9-c867e1ca6998"
      },
      "outputs": [
        {
          "data": {
            "text/plain": [
              "{'Long_Solucion': 31.0,\n",
              " 'Explorados': 233,\n",
              " 'Fronteras': 285,\n",
              " 'tiempo': '249 ms ± 27.2 ms',\n",
              " 'memoria': 1.3925905227661133}"
            ]
          },
          "execution_count": 150,
          "metadata": {},
          "output_type": "execute_result"
        }
      ],
      "source": [
        "solucion_Anch['memoria']= memory_peak\n",
        "solucion_Anch"
      ]
    },
    {
      "cell_type": "code",
      "execution_count": 151,
      "metadata": {
        "colab": {
          "base_uri": "https://localhost:8080/",
          "height": 81
        },
        "id": "dh2NvFj5cbK-",
        "outputId": "957b8f38-2dc2-47d0-d233-1b9d12148fd3"
      },
      "outputs": [
        {
          "data": {
            "text/html": [
              "<div>\n",
              "<style scoped>\n",
              "    .dataframe tbody tr th:only-of-type {\n",
              "        vertical-align: middle;\n",
              "    }\n",
              "\n",
              "    .dataframe tbody tr th {\n",
              "        vertical-align: top;\n",
              "    }\n",
              "\n",
              "    .dataframe thead th {\n",
              "        text-align: right;\n",
              "    }\n",
              "</style>\n",
              "<table border=\"1\" class=\"dataframe\">\n",
              "  <thead>\n",
              "    <tr style=\"text-align: right;\">\n",
              "      <th></th>\n",
              "      <th>Long_Solucion</th>\n",
              "      <th>Explorados</th>\n",
              "      <th>Fronteras</th>\n",
              "      <th>tiempo</th>\n",
              "      <th>memoria</th>\n",
              "    </tr>\n",
              "  </thead>\n",
              "  <tbody>\n",
              "    <tr>\n",
              "      <th>0</th>\n",
              "      <td>31.0</td>\n",
              "      <td>233</td>\n",
              "      <td>285</td>\n",
              "      <td>249 ms ± 27.2 ms</td>\n",
              "      <td>1.392591</td>\n",
              "    </tr>\n",
              "  </tbody>\n",
              "</table>\n",
              "</div>"
            ],
            "text/plain": [
              "   Long_Solucion  Explorados  Fronteras            tiempo   memoria\n",
              "0           31.0         233        285  249 ms ± 27.2 ms  1.392591"
            ]
          },
          "execution_count": 151,
          "metadata": {},
          "output_type": "execute_result"
        }
      ],
      "source": [
        "import pandas as pd\n",
        "\n",
        "pd.DataFrame(solucion_Anch, index=[0])"
      ]
    },
    {
      "cell_type": "markdown",
      "metadata": {},
      "source": [
        "## Búsqueda A*"
      ]
    },
    {
      "cell_type": "markdown",
      "metadata": {},
      "source": [
        "### Setup"
      ]
    },
    {
      "cell_type": "code",
      "execution_count": 152,
      "metadata": {},
      "outputs": [],
      "source": [
        "import time\n",
        "import statistics\n",
        "import tracemalloc\n",
        "\n",
        "def measure_algorithm(algorithm, num_executions=10):\n",
        "    times = []\n",
        "    memories = []\n",
        "    solution_lengths = []\n",
        "    explored_counts = []\n",
        "    frontier_counts = []\n",
        "    \n",
        "    for _ in range(num_executions):\n",
        "        initial_state = StatesHanoi([5, 4, 3, 2, 1], [], [], max_disks=5)\n",
        "        goal_state = StatesHanoi([], [], [5, 4, 3, 2, 1], max_disks=5)\n",
        "        problem = ProblemHanoi(initial=initial_state, goal=goal_state)\n",
        "        \n",
        "        start_time = time.time()\n",
        "        tracemalloc.start()\n",
        "        \n",
        "        result = algorithm(problem)\n",
        "        \n",
        "        end_time = time.time()\n",
        "        _, memory_peak = tracemalloc.get_traced_memory()\n",
        "        tracemalloc.stop()\n",
        "        \n",
        "        times.append(end_time - start_time)\n",
        "        memories.append(memory_peak / (1024 * 1024))  # Convert to MB\n",
        "        \n",
        "        if isinstance(result, tuple):  \n",
        "            last_node, explored, frontier = result\n",
        "        else:  \n",
        "            last_node = result\n",
        "            explored = getattr(last_node, 'explored', set())\n",
        "            frontier = getattr(last_node, 'frontier', [])\n",
        "        \n",
        "        solution_lengths.append(last_node.state.accumulated_cost)\n",
        "        explored_counts.append(len(explored))\n",
        "        frontier_counts.append(len(frontier))\n",
        "    \n",
        "    return {\n",
        "        'Long_Solucion': statistics.mean(solution_lengths),\n",
        "        'Explorados': statistics.mean(explored_counts),\n",
        "        'Fronteras': statistics.mean(frontier_counts),\n",
        "        'tiempo': f\"{statistics.mean(times)*1000:.2f} ms ± {statistics.stdev(times)*1000:.2f} ms\",\n",
        "        'memoria': f\"{statistics.mean(memories):.6f} MB ± {statistics.stdev(memories):.6f} MB\"\n",
        "    }\n",
        "\n",
        "# Inicializamos el problema\n",
        "initial_state = StatesHanoi([5, 4, 3, 2, 1], [], [], max_disks=5)\n",
        "goal_state = StatesHanoi([], [], [5, 4, 3, 2, 1], max_disks=5)\n",
        "problem = ProblemHanoi(initial=initial_state, goal=goal_state)"
      ]
    },
    {
      "cell_type": "code",
      "execution_count": 153,
      "metadata": {},
      "outputs": [
        {
          "name": "stdout",
          "output_type": "stream",
          "text": [
            "Encontramos la solución\n"
          ]
        }
      ],
      "source": [
        "import heapq\n",
        "\n",
        "def heuristic(state, num_disks):\n",
        "    # Calcula una estimación de cuántos movimientos faltan para llegar al objetivo\n",
        "    count = sum(len(peg) for peg_index, peg in enumerate(state.rods) if peg_index != 2)\n",
        "    return (2 ** count) - 1 if count > 0 else 0\n",
        "\n",
        "def a_star_search(problem):\n",
        "    initial_node = NodeHanoi(problem.initial)\n",
        "    initial_node.state.heuristic = heuristic(initial_node.state, initial_node.state.number_of_disks)\n",
        "    frontier = [(initial_node.state.accumulated_cost + initial_node.state.heuristic, initial_node)]\n",
        "    frontier_set = {initial_node.state}\n",
        "    explored = set()\n",
        "\n",
        "    while frontier:\n",
        "        _, node = heapq.heappop(frontier)\n",
        "        frontier_set.remove(node.state)\n",
        "\n",
        "        if problem.goal_test(node.state):\n",
        "            return node, explored, frontier_set\n",
        "\n",
        "        explored.add(node.state)\n",
        "\n",
        "        for child in node.expand(problem):\n",
        "            if child.state not in explored and child.state not in frontier_set:\n",
        "                child.state.heuristic = heuristic(child.state, child.state.number_of_disks)\n",
        "                heapq.heappush(frontier, (child.state.accumulated_cost + child.state.heuristic, child))\n",
        "                frontier_set.add(child.state)\n",
        "            elif child.state in frontier_set:\n",
        "                index = next(i for i, (_, n) in enumerate(frontier) if n.state == child.state)\n",
        "                if child.state.accumulated_cost < frontier[index][1].state.accumulated_cost:\n",
        "                    frontier[index] = (child.state.accumulated_cost + child.state.heuristic, child)\n",
        "                    heapq.heapify(frontier)\n",
        "\n",
        "    return None, explored, frontier_set\n",
        "\n",
        "# Ejecutamos A*\n",
        "last_node = a_star_search(problem)\n",
        "\n",
        "print(\"Encontramos la solución\" if last_node else \"No se encontró solución\")"
      ]
    },
    {
      "cell_type": "code",
      "execution_count": 154,
      "metadata": {},
      "outputs": [],
      "source": [
        "solucion_AStar = measure_algorithm(a_star_search)"
      ]
    },
    {
      "cell_type": "code",
      "execution_count": 155,
      "metadata": {},
      "outputs": [
        {
          "data": {
            "text/html": [
              "<div>\n",
              "<style scoped>\n",
              "    .dataframe tbody tr th:only-of-type {\n",
              "        vertical-align: middle;\n",
              "    }\n",
              "\n",
              "    .dataframe tbody tr th {\n",
              "        vertical-align: top;\n",
              "    }\n",
              "\n",
              "    .dataframe thead th {\n",
              "        text-align: right;\n",
              "    }\n",
              "</style>\n",
              "<table border=\"1\" class=\"dataframe\">\n",
              "  <thead>\n",
              "    <tr style=\"text-align: right;\">\n",
              "      <th></th>\n",
              "      <th>Long_Solucion</th>\n",
              "      <th>Explorados</th>\n",
              "      <th>Fronteras</th>\n",
              "      <th>tiempo</th>\n",
              "      <th>memoria</th>\n",
              "    </tr>\n",
              "  </thead>\n",
              "  <tbody>\n",
              "    <tr>\n",
              "      <th>0</th>\n",
              "      <td>31.0</td>\n",
              "      <td>161</td>\n",
              "      <td>9</td>\n",
              "      <td>224.80 ms ± 8.99 ms</td>\n",
              "      <td>0.172495 MB ± 0.012953 MB</td>\n",
              "    </tr>\n",
              "  </tbody>\n",
              "</table>\n",
              "</div>"
            ],
            "text/plain": [
              "   Long_Solucion  Explorados  Fronteras               tiempo  \\\n",
              "0           31.0         161          9  224.80 ms ± 8.99 ms   \n",
              "\n",
              "                     memoria  \n",
              "0  0.172495 MB ± 0.012953 MB  "
            ]
          },
          "execution_count": 155,
          "metadata": {},
          "output_type": "execute_result"
        }
      ],
      "source": [
        "pd.DataFrame(solucion_AStar, index=[0])\n"
      ]
    },
    {
      "cell_type": "markdown",
      "metadata": {
        "id": "KQ5fKyF9ktR9"
      },
      "source": [
        "### 4. Implementación de métodos de búsqueda\n",
        "Se analizaron tres métodos de búsqueda:\n",
        "\n",
        "#### LIFO (búsqueda en profundidad)\n",
        "- **Características:** Más rápida, usa menos memoria, pero la solución no es óptima.\n",
        "- **Ventajas:** \n",
        "  - Menor uso de memoria\n",
        "  - Útil para soluciones profundas\n",
        "  - Más rápida para encontrar cualquier solución\n",
        "  - Fácil implementación recursiva\n",
        "- **Desventajas:** \n",
        "  - No garantiza la solución óptima\n",
        "  - Puede quedarse atrapada en ramas infinitas\n",
        "\n",
        "#### FIFO (búsqueda en anchura)\n",
        "- **Características:** Más lenta, usa más memoria, pero la solución es óptima.\n",
        "- **Ventajas:** \n",
        "  - Garantiza encontrar la solución más corta (óptima)\n",
        "  - No se queda atrapada en ramas infinitas\n",
        "- **Desventajas:** \n",
        "  - Usa más memoria\n",
        "  - Puede ser más lenta si la solución está en un nivel profundo\n",
        "\n",
        "#### A* (A-star)\n",
        "- **Características:** Combina las ventajas de búsqueda en profundidad y anchura, generalmente más eficiente.\n",
        "- **Ventajas:**\n",
        "  - Encuentra la solución óptima si existe\n",
        "  - Generalmente más eficiente que FIFO en términos de nodos explorados\n",
        "  - Puede ser más rápido que FIFO y LIFO en muchos casos\n",
        "  - Utiliza una función heurística para guiar la búsqueda\n",
        "- **Desventajas:**\n",
        "  - Requiere una buena función heurística para ser eficiente\n",
        "  - Puede usar más memoria que LIFO (pero generalmente menos que FIFO)\n",
        "  - La implementación puede ser más compleja que LIFO o FIFO\n",
        "\n",
        "**Nota:** La elección entre LIFO, FIFO y A* dependerá del tipo de problema que se esté resolviendo, la disponibilidad de una buena función heurística, y si interesa encontrar la solución óptima o simplemente cualquier solución rápida. A* es particularmente útil cuando se dispone de una buena estimación heurística de la distancia al objetivo."
      ]
    },
    {
      "cell_type": "code",
      "execution_count": 159,
      "metadata": {},
      "outputs": [
        {
          "data": {
            "text/html": [
              "<div>\n",
              "<style scoped>\n",
              "    .dataframe tbody tr th:only-of-type {\n",
              "        vertical-align: middle;\n",
              "    }\n",
              "\n",
              "    .dataframe tbody tr th {\n",
              "        vertical-align: top;\n",
              "    }\n",
              "\n",
              "    .dataframe thead th {\n",
              "        text-align: right;\n",
              "    }\n",
              "</style>\n",
              "<table border=\"1\" class=\"dataframe\">\n",
              "  <thead>\n",
              "    <tr style=\"text-align: right;\">\n",
              "      <th></th>\n",
              "      <th>Long_Solucion</th>\n",
              "      <th>Explorados</th>\n",
              "      <th>Fronteras</th>\n",
              "      <th>tiempo</th>\n",
              "      <th>memoria</th>\n",
              "    </tr>\n",
              "  </thead>\n",
              "  <tbody>\n",
              "    <tr>\n",
              "      <th>LIFO (Profundidad)</th>\n",
              "      <td>121.0</td>\n",
              "      <td>122</td>\n",
              "      <td>63</td>\n",
              "      <td>16.9 ms ± 5.49 ms</td>\n",
              "      <td>0.221811</td>\n",
              "    </tr>\n",
              "    <tr>\n",
              "      <th>FIFO (Anchura)</th>\n",
              "      <td>31.0</td>\n",
              "      <td>233</td>\n",
              "      <td>285</td>\n",
              "      <td>249 ms ± 27.2 ms</td>\n",
              "      <td>1.392591</td>\n",
              "    </tr>\n",
              "    <tr>\n",
              "      <th>A*</th>\n",
              "      <td>31.0</td>\n",
              "      <td>161</td>\n",
              "      <td>9</td>\n",
              "      <td>224.80 ms ± 8.99 ms</td>\n",
              "      <td>0.172495 MB ± 0.012953 MB</td>\n",
              "    </tr>\n",
              "  </tbody>\n",
              "</table>\n",
              "</div>"
            ],
            "text/plain": [
              "                   Long_Solucion Explorados Fronteras               tiempo  \\\n",
              "LIFO (Profundidad)         121.0        122        63    16.9 ms ± 5.49 ms   \n",
              "FIFO (Anchura)              31.0        233       285     249 ms ± 27.2 ms   \n",
              "A*                          31.0        161         9  224.80 ms ± 8.99 ms   \n",
              "\n",
              "                                      memoria  \n",
              "LIFO (Profundidad)                   0.221811  \n",
              "FIFO (Anchura)                       1.392591  \n",
              "A*                  0.172495 MB ± 0.012953 MB  "
            ]
          },
          "execution_count": 159,
          "metadata": {},
          "output_type": "execute_result"
        }
      ],
      "source": [
        "combined_results = pd.DataFrame({\n",
        "    'LIFO (Profundidad)': solucion_prof,\n",
        "    'FIFO (Anchura)': solucion_Anch,\n",
        "    'A*': solucion_AStar\n",
        "}).T \n",
        "combined_results"
      ]
    }
  ],
  "metadata": {
    "colab": {
      "include_colab_link": true,
      "provenance": [],
      "toc_visible": true
    },
    "kernelspec": {
      "display_name": "Python 3",
      "name": "python3"
    },
    "language_info": {
      "codemirror_mode": {
        "name": "ipython",
        "version": 3
      },
      "file_extension": ".py",
      "mimetype": "text/x-python",
      "name": "python",
      "nbconvert_exporter": "python",
      "pygments_lexer": "ipython3",
      "version": "3.11.4"
    }
  },
  "nbformat": 4,
  "nbformat_minor": 0
}
